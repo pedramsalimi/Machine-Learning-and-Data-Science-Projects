{
 "cells": [
  {
   "cell_type": "markdown",
   "metadata": {},
   "source": [
    "# Importing Data"
   ]
  },
  {
   "cell_type": "code",
   "execution_count": 1,
   "metadata": {
    "collapsed": true
   },
   "outputs": [],
   "source": [
    "import pandas as pd"
   ]
  },
  {
   "cell_type": "code",
   "execution_count": 25,
   "metadata": {},
   "outputs": [],
   "source": [
    "housing_data = pd.read_csv('housing.csv')"
   ]
  },
  {
   "cell_type": "code",
   "execution_count": 26,
   "metadata": {},
   "outputs": [
    {
     "data": {
      "text/html": [
       "<div>\n",
       "<style>\n",
       "    .dataframe thead tr:only-child th {\n",
       "        text-align: right;\n",
       "    }\n",
       "\n",
       "    .dataframe thead th {\n",
       "        text-align: left;\n",
       "    }\n",
       "\n",
       "    .dataframe tbody tr th {\n",
       "        vertical-align: top;\n",
       "    }\n",
       "</style>\n",
       "<table border=\"1\" class=\"dataframe\">\n",
       "  <thead>\n",
       "    <tr style=\"text-align: right;\">\n",
       "      <th></th>\n",
       "      <th>housingMedianAge</th>\n",
       "      <th>totalRooms</th>\n",
       "      <th>totalBedrooms</th>\n",
       "      <th>population</th>\n",
       "      <th>households</th>\n",
       "      <th>medianIncome</th>\n",
       "      <th>medianHouseValue</th>\n",
       "    </tr>\n",
       "  </thead>\n",
       "  <tbody>\n",
       "    <tr>\n",
       "      <th>0</th>\n",
       "      <td>41.0</td>\n",
       "      <td>880.0</td>\n",
       "      <td>129.0</td>\n",
       "      <td>322.0</td>\n",
       "      <td>126.0</td>\n",
       "      <td>8.3252</td>\n",
       "      <td>452600.0</td>\n",
       "    </tr>\n",
       "    <tr>\n",
       "      <th>1</th>\n",
       "      <td>21.0</td>\n",
       "      <td>7099.0</td>\n",
       "      <td>1106.0</td>\n",
       "      <td>2401.0</td>\n",
       "      <td>1138.0</td>\n",
       "      <td>8.3014</td>\n",
       "      <td>358500.0</td>\n",
       "    </tr>\n",
       "    <tr>\n",
       "      <th>2</th>\n",
       "      <td>52.0</td>\n",
       "      <td>1467.0</td>\n",
       "      <td>190.0</td>\n",
       "      <td>496.0</td>\n",
       "      <td>177.0</td>\n",
       "      <td>7.2574</td>\n",
       "      <td>352100.0</td>\n",
       "    </tr>\n",
       "    <tr>\n",
       "      <th>3</th>\n",
       "      <td>52.0</td>\n",
       "      <td>1274.0</td>\n",
       "      <td>235.0</td>\n",
       "      <td>558.0</td>\n",
       "      <td>219.0</td>\n",
       "      <td>5.6431</td>\n",
       "      <td>341300.0</td>\n",
       "    </tr>\n",
       "    <tr>\n",
       "      <th>4</th>\n",
       "      <td>52.0</td>\n",
       "      <td>1627.0</td>\n",
       "      <td>280.0</td>\n",
       "      <td>565.0</td>\n",
       "      <td>259.0</td>\n",
       "      <td>3.8462</td>\n",
       "      <td>342200.0</td>\n",
       "    </tr>\n",
       "  </tbody>\n",
       "</table>\n",
       "</div>"
      ],
      "text/plain": [
       "   housingMedianAge  totalRooms  totalBedrooms  population  households  \\\n",
       "0              41.0       880.0          129.0       322.0       126.0   \n",
       "1              21.0      7099.0         1106.0      2401.0      1138.0   \n",
       "2              52.0      1467.0          190.0       496.0       177.0   \n",
       "3              52.0      1274.0          235.0       558.0       219.0   \n",
       "4              52.0      1627.0          280.0       565.0       259.0   \n",
       "\n",
       "   medianIncome  medianHouseValue  \n",
       "0        8.3252          452600.0  \n",
       "1        8.3014          358500.0  \n",
       "2        7.2574          352100.0  \n",
       "3        5.6431          341300.0  \n",
       "4        3.8462          342200.0  "
      ]
     },
     "execution_count": 26,
     "metadata": {},
     "output_type": "execute_result"
    }
   ],
   "source": [
    "housing_data.head()"
   ]
  },
  {
   "cell_type": "markdown",
   "metadata": {},
   "source": [
    "# Splitting The Dataset "
   ]
  },
  {
   "cell_type": "code",
   "execution_count": 4,
   "metadata": {
    "collapsed": true
   },
   "outputs": [],
   "source": [
    "labels = housing_data['medianHouseValue']"
   ]
  },
  {
   "cell_type": "code",
   "execution_count": 5,
   "metadata": {
    "collapsed": true
   },
   "outputs": [],
   "source": [
    "features = housing_data.drop('medianHouseValue',axis=1)"
   ]
  },
  {
   "cell_type": "code",
   "execution_count": 6,
   "metadata": {
    "collapsed": true
   },
   "outputs": [],
   "source": [
    "from sklearn.model_selection import train_test_split"
   ]
  },
  {
   "cell_type": "code",
   "execution_count": 7,
   "metadata": {
    "collapsed": true
   },
   "outputs": [],
   "source": [
    "X_train,X_test,y_train,y_test = train_test_split(features,labels,test_size=0.3,random_state=0)"
   ]
  },
  {
   "cell_type": "markdown",
   "metadata": {},
   "source": [
    "# Feature Scaling the data"
   ]
  },
  {
   "cell_type": "code",
   "execution_count": 8,
   "metadata": {
    "collapsed": true
   },
   "outputs": [],
   "source": [
    "from sklearn.preprocessing import MinMaxScaler"
   ]
  },
  {
   "cell_type": "code",
   "execution_count": 9,
   "metadata": {
    "collapsed": true
   },
   "outputs": [],
   "source": [
    "scaler = MinMaxScaler()"
   ]
  },
  {
   "cell_type": "code",
   "execution_count": 10,
   "metadata": {},
   "outputs": [
    {
     "data": {
      "text/plain": [
       "MinMaxScaler(copy=True, feature_range=(0, 1))"
      ]
     },
     "execution_count": 10,
     "metadata": {},
     "output_type": "execute_result"
    }
   ],
   "source": [
    "scaler.fit(X_train)"
   ]
  },
  {
   "cell_type": "code",
   "execution_count": 11,
   "metadata": {
    "collapsed": true
   },
   "outputs": [],
   "source": [
    "X_train = pd.DataFrame(data=scaler.transform(X_train),columns=X_train.columns,index=X_train.index)"
   ]
  },
  {
   "cell_type": "code",
   "execution_count": 12,
   "metadata": {
    "collapsed": true
   },
   "outputs": [],
   "source": [
    "X_test = pd.DataFrame(data=scaler.transform(X_test),columns=X_test.columns,index=X_test.index)"
   ]
  },
  {
   "cell_type": "markdown",
   "metadata": {},
   "source": [
    "# Creating Feature Columns"
   ]
  },
  {
   "cell_type": "code",
   "execution_count": 13,
   "metadata": {},
   "outputs": [
    {
     "data": {
      "text/plain": [
       "Index(['housingMedianAge', 'totalRooms', 'totalBedrooms', 'population',\n",
       "       'households', 'medianIncome', 'medianHouseValue'],\n",
       "      dtype='object')"
      ]
     },
     "execution_count": 13,
     "metadata": {},
     "output_type": "execute_result"
    }
   ],
   "source": [
    "housing_data.columns"
   ]
  },
  {
   "cell_type": "code",
   "execution_count": 14,
   "metadata": {
    "collapsed": true
   },
   "outputs": [],
   "source": [
    "import tensorflow as tf"
   ]
  },
  {
   "cell_type": "code",
   "execution_count": 15,
   "metadata": {
    "collapsed": true
   },
   "outputs": [],
   "source": [
    "age = tf.feature_column.numeric_column('housingMedianAge')\n",
    "rooms = tf.feature_column.numeric_column('totalRooms')\n",
    "bedrooms = tf.feature_column.numeric_column('totalBedrooms')\n",
    "population = tf.feature_column.numeric_column('population')\n",
    "households = tf.feature_column.numeric_column('households')\n",
    "income = tf.feature_column.numeric_column('medianIncome')"
   ]
  },
  {
   "cell_type": "code",
   "execution_count": 16,
   "metadata": {
    "collapsed": true
   },
   "outputs": [],
   "source": [
    "feat_cols = [age,rooms,bedrooms,population,households,income]"
   ]
  },
  {
   "cell_type": "markdown",
   "metadata": {},
   "source": [
    "# Creating Input Function"
   ]
  },
  {
   "cell_type": "code",
   "execution_count": 17,
   "metadata": {
    "collapsed": true
   },
   "outputs": [],
   "source": [
    "input_func = tf.estimator.inputs.pandas_input_fn(x=X_train,y=y_train,batch_size=10,num_epochs=1000,shuffle=True)"
   ]
  },
  {
   "cell_type": "markdown",
   "metadata": {},
   "source": [
    "# Creating The Estimator model"
   ]
  },
  {
   "cell_type": "code",
   "execution_count": 21,
   "metadata": {},
   "outputs": [
    {
     "name": "stdout",
     "output_type": "stream",
     "text": [
      "INFO:tensorflow:Using default config.\n",
      "WARNING:tensorflow:Using temporary folder as model directory: /tmp/tmpxdhr2owk\n",
      "INFO:tensorflow:Using config: {'_tf_random_seed': 1, '_save_checkpoints_secs': 600, '_keep_checkpoint_max': 5, '_session_config': None, '_save_summary_steps': 100, '_save_checkpoints_steps': None, '_model_dir': '/tmp/tmpxdhr2owk', '_log_step_count_steps': 100, '_keep_checkpoint_every_n_hours': 10000}\n"
     ]
    }
   ],
   "source": [
    "model = tf.estimator.DNNRegressor(hidden_units=[5,5,5],feature_columns=feat_cols)"
   ]
  },
  {
   "cell_type": "markdown",
   "metadata": {},
   "source": [
    "# Training the model"
   ]
  },
  {
   "cell_type": "code",
   "execution_count": 19,
   "metadata": {},
   "outputs": [
    {
     "name": "stdout",
     "output_type": "stream",
     "text": [
      "INFO:tensorflow:Create CheckpointSaverHook.\n",
      "INFO:tensorflow:Saving checkpoints for 1 into /tmp/tmpspwa1_0r/model.ckpt.\n",
      "INFO:tensorflow:step = 1, loss = 4.52781e+11\n",
      "INFO:tensorflow:global_step/sec: 410.559\n",
      "INFO:tensorflow:step = 101, loss = 3.74581e+11 (0.250 sec)\n",
      "INFO:tensorflow:global_step/sec: 351.731\n",
      "INFO:tensorflow:step = 201, loss = 2.81582e+11 (0.289 sec)\n",
      "INFO:tensorflow:global_step/sec: 349.319\n",
      "INFO:tensorflow:step = 301, loss = 5.60148e+11 (0.282 sec)\n",
      "INFO:tensorflow:global_step/sec: 369.687\n",
      "INFO:tensorflow:step = 401, loss = 7.35767e+11 (0.273 sec)\n",
      "INFO:tensorflow:global_step/sec: 322.261\n",
      "INFO:tensorflow:step = 501, loss = 5.65773e+11 (0.312 sec)\n",
      "INFO:tensorflow:global_step/sec: 328.693\n",
      "INFO:tensorflow:step = 601, loss = 3.24329e+11 (0.301 sec)\n",
      "INFO:tensorflow:global_step/sec: 343.102\n",
      "INFO:tensorflow:step = 701, loss = 3.57458e+11 (0.294 sec)\n",
      "INFO:tensorflow:global_step/sec: 335.558\n",
      "INFO:tensorflow:step = 801, loss = 1.49529e+11 (0.296 sec)\n",
      "INFO:tensorflow:global_step/sec: 386.46\n",
      "INFO:tensorflow:step = 901, loss = 6.34101e+11 (0.259 sec)\n",
      "INFO:tensorflow:global_step/sec: 340.272\n",
      "INFO:tensorflow:step = 1001, loss = 4.84022e+11 (0.292 sec)\n",
      "INFO:tensorflow:global_step/sec: 322.916\n",
      "INFO:tensorflow:step = 1101, loss = 8.9842e+11 (0.308 sec)\n",
      "INFO:tensorflow:global_step/sec: 329.759\n",
      "INFO:tensorflow:step = 1201, loss = 2.98717e+11 (0.308 sec)\n",
      "INFO:tensorflow:global_step/sec: 331.956\n",
      "INFO:tensorflow:step = 1301, loss = 5.95529e+11 (0.300 sec)\n",
      "INFO:tensorflow:global_step/sec: 321.641\n",
      "INFO:tensorflow:step = 1401, loss = 8.61283e+11 (0.310 sec)\n",
      "INFO:tensorflow:global_step/sec: 244.678\n",
      "INFO:tensorflow:step = 1501, loss = 4.25795e+11 (0.405 sec)\n",
      "INFO:tensorflow:global_step/sec: 208.698\n",
      "INFO:tensorflow:step = 1601, loss = 3.80089e+11 (0.486 sec)\n",
      "INFO:tensorflow:global_step/sec: 325.956\n",
      "INFO:tensorflow:step = 1701, loss = 4.3014e+11 (0.309 sec)\n",
      "INFO:tensorflow:global_step/sec: 290.058\n",
      "INFO:tensorflow:step = 1801, loss = 4.79508e+11 (0.341 sec)\n",
      "INFO:tensorflow:global_step/sec: 321.613\n",
      "INFO:tensorflow:step = 1901, loss = 4.69007e+11 (0.311 sec)\n",
      "INFO:tensorflow:global_step/sec: 295.375\n",
      "INFO:tensorflow:step = 2001, loss = 3.48852e+11 (0.339 sec)\n",
      "INFO:tensorflow:global_step/sec: 319.032\n",
      "INFO:tensorflow:step = 2101, loss = 3.08155e+11 (0.313 sec)\n",
      "INFO:tensorflow:global_step/sec: 355.692\n",
      "INFO:tensorflow:step = 2201, loss = 2.81537e+11 (0.280 sec)\n",
      "INFO:tensorflow:global_step/sec: 328.103\n",
      "INFO:tensorflow:step = 2301, loss = 1.84777e+11 (0.306 sec)\n",
      "INFO:tensorflow:global_step/sec: 319.339\n",
      "INFO:tensorflow:step = 2401, loss = 3.25322e+11 (0.313 sec)\n",
      "INFO:tensorflow:global_step/sec: 332.939\n",
      "INFO:tensorflow:step = 2501, loss = 3.01537e+11 (0.304 sec)\n",
      "INFO:tensorflow:global_step/sec: 337.634\n",
      "INFO:tensorflow:step = 2601, loss = 3.12788e+11 (0.293 sec)\n",
      "INFO:tensorflow:global_step/sec: 327.698\n",
      "INFO:tensorflow:step = 2701, loss = 4.91989e+11 (0.304 sec)\n",
      "INFO:tensorflow:global_step/sec: 337.733\n",
      "INFO:tensorflow:step = 2801, loss = 3.4196e+11 (0.296 sec)\n",
      "INFO:tensorflow:global_step/sec: 335.757\n",
      "INFO:tensorflow:step = 2901, loss = 3.15128e+11 (0.299 sec)\n",
      "INFO:tensorflow:global_step/sec: 292.795\n",
      "INFO:tensorflow:step = 3001, loss = 1.74252e+11 (0.338 sec)\n",
      "INFO:tensorflow:global_step/sec: 339.805\n",
      "INFO:tensorflow:step = 3101, loss = 1.09086e+11 (0.299 sec)\n",
      "INFO:tensorflow:global_step/sec: 322.895\n",
      "INFO:tensorflow:step = 3201, loss = 3.06536e+11 (0.304 sec)\n",
      "INFO:tensorflow:global_step/sec: 335.166\n",
      "INFO:tensorflow:step = 3301, loss = 1.86672e+11 (0.304 sec)\n",
      "INFO:tensorflow:global_step/sec: 334.212\n",
      "INFO:tensorflow:step = 3401, loss = 1.98196e+11 (0.294 sec)\n",
      "INFO:tensorflow:global_step/sec: 319.73\n",
      "INFO:tensorflow:step = 3501, loss = 1.83103e+11 (0.314 sec)\n",
      "INFO:tensorflow:global_step/sec: 382.75\n",
      "INFO:tensorflow:step = 3601, loss = 1.97505e+11 (0.261 sec)\n",
      "INFO:tensorflow:global_step/sec: 311.702\n",
      "INFO:tensorflow:step = 3701, loss = 3.89598e+11 (0.322 sec)\n",
      "INFO:tensorflow:global_step/sec: 325.961\n",
      "INFO:tensorflow:step = 3801, loss = 1.93519e+11 (0.307 sec)\n",
      "INFO:tensorflow:global_step/sec: 321.635\n",
      "INFO:tensorflow:step = 3901, loss = 5.54472e+10 (0.307 sec)\n",
      "INFO:tensorflow:global_step/sec: 291.171\n",
      "INFO:tensorflow:step = 4001, loss = 1.55188e+11 (0.351 sec)\n",
      "INFO:tensorflow:global_step/sec: 318.865\n",
      "INFO:tensorflow:step = 4101, loss = 1.23702e+11 (0.307 sec)\n",
      "INFO:tensorflow:global_step/sec: 325.615\n",
      "INFO:tensorflow:step = 4201, loss = 7.5356e+10 (0.312 sec)\n",
      "INFO:tensorflow:global_step/sec: 323.138\n",
      "INFO:tensorflow:step = 4301, loss = 8.01402e+10 (0.304 sec)\n",
      "INFO:tensorflow:global_step/sec: 308.262\n",
      "INFO:tensorflow:step = 4401, loss = 2.97481e+11 (0.330 sec)\n",
      "INFO:tensorflow:global_step/sec: 372.74\n",
      "INFO:tensorflow:step = 4501, loss = 1.1137e+11 (0.260 sec)\n",
      "INFO:tensorflow:global_step/sec: 357.781\n",
      "INFO:tensorflow:step = 4601, loss = 9.71476e+10 (0.287 sec)\n",
      "INFO:tensorflow:global_step/sec: 320.531\n",
      "INFO:tensorflow:step = 4701, loss = 1.105e+11 (0.309 sec)\n",
      "INFO:tensorflow:global_step/sec: 330.284\n",
      "INFO:tensorflow:step = 4801, loss = 1.81673e+10 (0.301 sec)\n",
      "INFO:tensorflow:global_step/sec: 318.169\n",
      "INFO:tensorflow:step = 4901, loss = 2.08964e+11 (0.313 sec)\n",
      "INFO:tensorflow:global_step/sec: 368.527\n",
      "INFO:tensorflow:step = 5001, loss = 1.40617e+11 (0.274 sec)\n",
      "INFO:tensorflow:global_step/sec: 278.526\n",
      "INFO:tensorflow:step = 5101, loss = 1.25442e+11 (0.362 sec)\n",
      "INFO:tensorflow:global_step/sec: 315.404\n",
      "INFO:tensorflow:step = 5201, loss = 7.67412e+10 (0.310 sec)\n",
      "INFO:tensorflow:global_step/sec: 339.736\n",
      "INFO:tensorflow:step = 5301, loss = 2.6435e+11 (0.295 sec)\n",
      "INFO:tensorflow:global_step/sec: 342.609\n",
      "INFO:tensorflow:step = 5401, loss = 6.34017e+10 (0.298 sec)\n",
      "INFO:tensorflow:global_step/sec: 316.203\n",
      "INFO:tensorflow:step = 5501, loss = 5.98419e+10 (0.315 sec)\n",
      "INFO:tensorflow:global_step/sec: 332.346\n",
      "INFO:tensorflow:step = 5601, loss = 2.54804e+11 (0.302 sec)\n",
      "INFO:tensorflow:global_step/sec: 337.503\n",
      "INFO:tensorflow:step = 5701, loss = 1.85993e+11 (0.299 sec)\n",
      "INFO:tensorflow:global_step/sec: 308.778\n",
      "INFO:tensorflow:step = 5801, loss = 1.15441e+11 (0.320 sec)\n",
      "INFO:tensorflow:global_step/sec: 349.754\n",
      "INFO:tensorflow:step = 5901, loss = 1.16223e+11 (0.286 sec)\n",
      "INFO:tensorflow:global_step/sec: 305.22\n",
      "INFO:tensorflow:step = 6001, loss = 1.34681e+11 (0.325 sec)\n",
      "INFO:tensorflow:global_step/sec: 357.421\n",
      "INFO:tensorflow:step = 6101, loss = 9.33521e+10 (0.283 sec)\n",
      "INFO:tensorflow:global_step/sec: 338.511\n",
      "INFO:tensorflow:step = 6201, loss = 7.76998e+10 (0.293 sec)\n",
      "INFO:tensorflow:global_step/sec: 347.564\n",
      "INFO:tensorflow:step = 6301, loss = 1.24749e+11 (0.293 sec)\n",
      "INFO:tensorflow:global_step/sec: 329.538\n",
      "INFO:tensorflow:step = 6401, loss = 8.18913e+10 (0.300 sec)\n",
      "INFO:tensorflow:global_step/sec: 327.757\n",
      "INFO:tensorflow:step = 6501, loss = 1.21381e+11 (0.305 sec)\n",
      "INFO:tensorflow:global_step/sec: 315.438\n",
      "INFO:tensorflow:step = 6601, loss = 5.79544e+10 (0.315 sec)\n",
      "INFO:tensorflow:global_step/sec: 329.002\n",
      "INFO:tensorflow:step = 6701, loss = 1.46411e+11 (0.307 sec)\n",
      "INFO:tensorflow:global_step/sec: 322.236\n",
      "INFO:tensorflow:step = 6801, loss = 1.75145e+11 (0.308 sec)\n",
      "INFO:tensorflow:global_step/sec: 321.018\n",
      "INFO:tensorflow:step = 6901, loss = 6.27429e+10 (0.313 sec)\n",
      "INFO:tensorflow:global_step/sec: 319.022\n",
      "INFO:tensorflow:step = 7001, loss = 1.39893e+11 (0.317 sec)\n",
      "INFO:tensorflow:global_step/sec: 327.613\n",
      "INFO:tensorflow:step = 7101, loss = 7.55444e+10 (0.302 sec)\n",
      "INFO:tensorflow:global_step/sec: 321.077\n",
      "INFO:tensorflow:step = 7201, loss = 4.75691e+10 (0.310 sec)\n",
      "INFO:tensorflow:global_step/sec: 334.775\n",
      "INFO:tensorflow:step = 7301, loss = 1.71973e+11 (0.301 sec)\n",
      "INFO:tensorflow:global_step/sec: 330.996\n",
      "INFO:tensorflow:step = 7401, loss = 6.83737e+10 (0.304 sec)\n",
      "INFO:tensorflow:global_step/sec: 332.065\n",
      "INFO:tensorflow:step = 7501, loss = 9.99123e+10 (0.303 sec)\n",
      "INFO:tensorflow:global_step/sec: 347.867\n",
      "INFO:tensorflow:step = 7601, loss = 5.01342e+10 (0.287 sec)\n",
      "INFO:tensorflow:global_step/sec: 251.73\n",
      "INFO:tensorflow:step = 7701, loss = 7.86392e+10 (0.403 sec)\n",
      "INFO:tensorflow:global_step/sec: 306.171\n",
      "INFO:tensorflow:step = 7801, loss = 5.7612e+10 (0.324 sec)\n",
      "INFO:tensorflow:global_step/sec: 330.409\n",
      "INFO:tensorflow:step = 7901, loss = 1.01283e+11 (0.299 sec)\n",
      "INFO:tensorflow:global_step/sec: 319.658\n",
      "INFO:tensorflow:step = 8001, loss = 1.3343e+11 (0.314 sec)\n"
     ]
    },
    {
     "name": "stdout",
     "output_type": "stream",
     "text": [
      "INFO:tensorflow:global_step/sec: 299.651\n",
      "INFO:tensorflow:step = 8101, loss = 1.62063e+11 (0.328 sec)\n",
      "INFO:tensorflow:global_step/sec: 331.58\n",
      "INFO:tensorflow:step = 8201, loss = 5.74476e+10 (0.303 sec)\n",
      "INFO:tensorflow:global_step/sec: 329.625\n",
      "INFO:tensorflow:step = 8301, loss = 1.30008e+11 (0.299 sec)\n",
      "INFO:tensorflow:global_step/sec: 340.805\n",
      "INFO:tensorflow:step = 8401, loss = 5.20432e+10 (0.303 sec)\n",
      "INFO:tensorflow:global_step/sec: 342.045\n",
      "INFO:tensorflow:step = 8501, loss = 6.96101e+10 (0.290 sec)\n",
      "INFO:tensorflow:global_step/sec: 349.053\n",
      "INFO:tensorflow:step = 8601, loss = 8.33227e+10 (0.289 sec)\n",
      "INFO:tensorflow:global_step/sec: 347.102\n",
      "INFO:tensorflow:step = 8701, loss = 1.4029e+11 (0.284 sec)\n",
      "INFO:tensorflow:global_step/sec: 424.467\n",
      "INFO:tensorflow:step = 8801, loss = 1.08287e+11 (0.235 sec)\n",
      "INFO:tensorflow:global_step/sec: 412.611\n",
      "INFO:tensorflow:step = 8901, loss = 1.79792e+11 (0.241 sec)\n",
      "INFO:tensorflow:global_step/sec: 412.487\n",
      "INFO:tensorflow:step = 9001, loss = 1.62323e+11 (0.242 sec)\n",
      "INFO:tensorflow:global_step/sec: 437.802\n",
      "INFO:tensorflow:step = 9101, loss = 9.30131e+10 (0.233 sec)\n",
      "INFO:tensorflow:global_step/sec: 345.618\n",
      "INFO:tensorflow:step = 9201, loss = 1.10591e+11 (0.289 sec)\n",
      "INFO:tensorflow:global_step/sec: 353.607\n",
      "INFO:tensorflow:step = 9301, loss = 1.42959e+11 (0.279 sec)\n",
      "INFO:tensorflow:global_step/sec: 369.461\n",
      "INFO:tensorflow:step = 9401, loss = 8.45186e+10 (0.279 sec)\n",
      "INFO:tensorflow:global_step/sec: 392.907\n",
      "INFO:tensorflow:step = 9501, loss = 1.961e+11 (0.253 sec)\n",
      "INFO:tensorflow:global_step/sec: 346.469\n",
      "INFO:tensorflow:step = 9601, loss = 1.62841e+11 (0.282 sec)\n",
      "INFO:tensorflow:global_step/sec: 365.835\n",
      "INFO:tensorflow:step = 9701, loss = 1.07823e+11 (0.276 sec)\n",
      "INFO:tensorflow:global_step/sec: 347.203\n",
      "INFO:tensorflow:step = 9801, loss = 1.12772e+11 (0.288 sec)\n",
      "INFO:tensorflow:global_step/sec: 329.764\n",
      "INFO:tensorflow:step = 9901, loss = 5.64444e+10 (0.304 sec)\n",
      "INFO:tensorflow:Saving checkpoints for 10000 into /tmp/tmpspwa1_0r/model.ckpt.\n",
      "INFO:tensorflow:Loss for final step: 1.0994e+11.\n"
     ]
    },
    {
     "data": {
      "text/plain": [
       "<tensorflow.python.estimator.canned.dnn.DNNRegressor at 0x7f3ce04acc88>"
      ]
     },
     "execution_count": 19,
     "metadata": {},
     "output_type": "execute_result"
    }
   ],
   "source": [
    "model.train(input_fn=input_func,steps=10000)"
   ]
  },
  {
   "cell_type": "markdown",
   "metadata": {},
   "source": [
    "# Create Predict input function"
   ]
  },
  {
   "cell_type": "code",
   "execution_count": 49,
   "metadata": {
    "collapsed": true
   },
   "outputs": [],
   "source": [
    "predict_input_func = tf.estimator.inputs.pandas_input_fn(x=X_test,batch_size=10,num_epochs=1,shuffle=False)"
   ]
  },
  {
   "cell_type": "code",
   "execution_count": 50,
   "metadata": {
    "collapsed": true
   },
   "outputs": [],
   "source": [
    "pred = model.predict(input_fn=predict_input_func)"
   ]
  },
  {
   "cell_type": "code",
   "execution_count": 51,
   "metadata": {},
   "outputs": [
    {
     "name": "stdout",
     "output_type": "stream",
     "text": [
      "INFO:tensorflow:Restoring parameters from /tmp/tmpb2bsj2lo/model.ckpt-10000\n"
     ]
    }
   ],
   "source": [
    "predictions = list(pred)"
   ]
  },
  {
   "cell_type": "markdown",
   "metadata": {},
   "source": [
    "# Calculate Root Mean Squared Errors - RMSE"
   ]
  },
  {
   "cell_type": "code",
   "execution_count": 52,
   "metadata": {
    "collapsed": true
   },
   "outputs": [],
   "source": [
    "final_pred = []\n",
    "for pred in predictions:\n",
    "    final_pred.append(pred['predictions'])"
   ]
  },
  {
   "cell_type": "code",
   "execution_count": 53,
   "metadata": {
    "collapsed": true
   },
   "outputs": [],
   "source": [
    "from sklearn.metrics import mean_squared_error"
   ]
  },
  {
   "cell_type": "code",
   "execution_count": 54,
   "metadata": {},
   "outputs": [
    {
     "data": {
      "text/plain": [
       "104157.12193101335"
      ]
     },
     "execution_count": 54,
     "metadata": {},
     "output_type": "execute_result"
    }
   ],
   "source": [
    "mean_squared_error(y_test,final_pred)**0.5"
   ]
  },
  {
   "cell_type": "code",
   "execution_count": null,
   "metadata": {
    "collapsed": true
   },
   "outputs": [],
   "source": []
  }
 ],
 "metadata": {
  "kernelspec": {
   "display_name": "Python 3",
   "language": "python",
   "name": "python3"
  },
  "language_info": {
   "codemirror_mode": {
    "name": "ipython",
    "version": 3
   },
   "file_extension": ".py",
   "mimetype": "text/x-python",
   "name": "python",
   "nbconvert_exporter": "python",
   "pygments_lexer": "ipython3",
   "version": "3.6.5"
  }
 },
 "nbformat": 4,
 "nbformat_minor": 2
}
